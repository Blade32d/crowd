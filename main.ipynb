{
 "cells": [
  {
   "cell_type": "code",
   "execution_count": 9,
   "metadata": {},
   "outputs": [],
   "source": [
    "import cv2\n",
    "import numpy as np\n",
    "import tensorflow as tf\n",
    "import tensorflow_hub as hub        \n",
    "import seaborn as sns\n",
    "import matplotlib.pyplot as plt\n"
   ]
  },
  {
   "cell_type": "code",
   "execution_count": null,
   "metadata": {},
   "outputs": [],
   "source": [
    "# Load the pre-trained EfficientDet model from TensorFlow Hub\n",
    "model_url = \"https://tfhub.dev/tensorflow/efficientdet/d7/1\"\n",
    "model = hub.load(model_url)\n",
    "\n",
    "# Load an image for testing\n",
    "image_path = \"imgage name\"\n",
    "image = cv2.imread(image_path)\n",
    "image = cv2.cvtColor(image, cv2.COLOR_BGR2RGB)\n",
    "\n",
    "# Convert the image to tf.uint8\n",
    "input_image = tf.convert_to_tensor(image, dtype=tf.uint8)"
   ]
  },
  {
   "cell_type": "code",
   "execution_count": null,
   "metadata": {},
   "outputs": [],
   "source": [
    "# Add batch dimension\n",
    "input_image = tf.expand_dims(input_image, axis=0)\n",
    "\n",
    "# Perform inference\n",
    "predictions = model(input_image)\n",
    "\n",
    "# Post-process the predictions\n",
    "result = {key: value[0].numpy() for key, value in predictions.items()}  # Ensure we extract a single element from each array\n",
    "\n",
    "# Extract the number of detections from the 'num_detections' array\n",
    "num_detections = int(result[\"num_detections\"])\n",
    "\n",
    "# Initialize crowd density\n",
    "crowd_density = 0\n",
    "\n",
    "# Create an empty heatmap\n",
    "heatmap = np.zeros_like(image[:, :, 0], dtype=np.float32)"
   ]
  },
  {
   "cell_type": "code",
   "execution_count": null,
   "metadata": {},
   "outputs": [],
   "source": [
    "\n",
    "# Draw bounding boxes on the image for detected persons and calculate crowd density\n",
    "for i in range(num_detections):\n",
    "    box = result[\"detection_boxes\"][i]\n",
    "    class_id = int(result[\"detection_classes\"][i])\n",
    "    score = result[\"detection_scores\"][i]  # Access the score directly\n",
    "\n",
    "    # Check if the detected object is a person (class ID 1)\n",
    "    if class_id == 1 and score > 0.5:  # Adjust the threshold as needed\n",
    "        ymin, xmin, ymax, xmax = box\n",
    "        xmin = int(xmin * image.shape[1])\n",
    "        xmax = int(xmax * image.shape[1])\n",
    "        ymin = int(ymin * image.shape[0])\n",
    "        ymax = int(ymax * image.shape[0])\n",
    "\n",
    "        cv2.rectangle(image, (xmin, ymin), (xmax, ymax), (255, 0, 0), 2)\n",
    "\n",
    "        # Increment crowd density\n",
    "        crowd_density += 1\n",
    "\n",
    "        # Add density to the heatmap in the bounding box region\n",
    "        heatmap[ymin:ymax, xmin:xmax] += 1\n"
   ]
  },
  {
   "cell_type": "code",
   "execution_count": null,
   "metadata": {},
   "outputs": [],
   "source": [
    "# Normalize the heatmap\n",
    "heatmap = heatmap / heatmap.max()\n",
    "\n",
    "# Create a heatmap using seaborn\n",
    "plt.figure(figsize=(12, 6))\n",
    "\n",
    "sns.heatmap(heatmap, cmap=\"hot\", cbar_kws={'label': 'Crowd Density'})\n",
    "plt.title('Crowd Density Heatmap')\n",
    "\n",
    "plt.imshow(image)\n",
    "plt.title(f\"Crowd Density: {crowd_density}\")\n",
    "\n",
    "plt.tight_layout()\n",
    "plt.show()"
   ]
  }
 ],
 "metadata": {
  "kernelspec": {
   "display_name": "Python 3",
   "language": "python",
   "name": "python3"
  },
  "language_info": {
   "codemirror_mode": {
    "name": "ipython",
    "version": 3
   },
   "file_extension": ".py",
   "mimetype": "text/x-python",
   "name": "python",
   "nbconvert_exporter": "python",
   "pygments_lexer": "ipython3",
   "version": "3.10.5"
  }
 },
 "nbformat": 4,
 "nbformat_minor": 2
}
